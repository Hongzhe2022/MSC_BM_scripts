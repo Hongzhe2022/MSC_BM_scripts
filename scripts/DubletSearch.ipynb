{
 "cells": [
  {
   "cell_type": "code",
   "execution_count": 1,
   "id": "5e8859e5-308e-4ea0-998c-56bef1a58885",
   "metadata": {},
   "outputs": [],
   "source": [
    "import scvelo as scv\n",
    "import loompy\n",
    "import scanpy\n",
    "import igraph\n",
    "import phate\n",
    "import glob, os\n",
    "import pandas as pd\n",
    "import os\n",
    "import re\n",
    "import subprocess\n",
    "from collections import Counter\n",
    "import numpy as np\n",
    "\n",
    "ifile = \"Hongze_healthy_2020_10_downsampled_1000_2D_overclustered.h5ad\""
   ]
  },
  {
   "cell_type": "code",
   "execution_count": 24,
   "id": "a14ba84a-1f9e-4368-9315-dd38aa688d6f",
   "metadata": {},
   "outputs": [
    {
     "name": "stdout",
     "output_type": "stream",
     "text": [
      "scvelo==0.2.4\n",
      "loompy==3.0.6\n",
      "scanpy==1.8.2\n",
      "igraph==0.9.9\n",
      "phate==1.0.7\n",
      "pandas==1.5.0.dev0+268.gbe8d1ec88\n",
      "re==2.2.1\n",
      "numpy==1.19.5\n"
     ]
    }
   ],
   "source": [
    "print('\\n'.join(f'{m.__name__}=={m.__version__}' for m in globals().values() if getattr(m, '__version__', None)))"
   ]
  },
  {
   "cell_type": "code",
   "execution_count": 19,
   "id": "7e1f9369-567d-4027-90b5-bdd0f04219d1",
   "metadata": {},
   "outputs": [],
   "source": [
    "ofile = \"Hongze_healthy_2020_10_downsampled_1000_2D_overclustered_doubletsRemoved.h5ad\""
   ]
  },
  {
   "cell_type": "code",
   "execution_count": 2,
   "id": "78883530-d1eb-44c1-95b5-a14a4c59f92e",
   "metadata": {},
   "outputs": [
    {
     "data": {
      "text/plain": [
       "AnnData object with n_obs × n_vars = 25067 × 21269\n",
       "    obs: 'TotalUMIs', 'sname', 'n_counts', 'louvain', 'velocity_self_transition', 'velocity_clusters15', 'louvain15_merged.92', 'louvain15_merged.92_renamed', 'louvain15_merged.95', 'louvain15_merged.95_renamed', 'louvain15_merged.98', 'louvain15_merged.98_renamed', 'louvain11', 'louvain11_merged.95', 'louvain11_merged.95_renamed'\n",
       "    var: 'Accession', 'AccessionVersion', 'Aliases', 'CcdsID', 'Chromosome', 'ChromosomeEnd', 'ChromosomeStart', 'CosmicID', 'DnaBindingDomain', 'FullName', 'GeneType', 'HgncID', 'IsTF', 'Location', 'LocationSortable', 'LocusGroup', 'LocusType', 'MgdID', 'MirBaseID', 'OmimID', 'PubmedID', 'RefseqID', 'RgdID', 'UcscID', 'UniprotID', 'VegaID', 'n_counts', 'highly_variable', 'means', 'dispersions', 'dispersions_norm', 'fit_r2', 'fit_alpha', 'fit_beta', 'fit_gamma', 'fit_t_', 'fit_scaling', 'fit_std_u', 'fit_std_s', 'fit_likelihood', 'fit_u0', 'fit_s0', 'fit_pval_steady', 'fit_steady_u', 'fit_steady_s', 'fit_variance', 'fit_alignment_scaling', 'velocity_genes'\n",
       "    uns: 'hvg', 'louvain', 'louvain11_merged.95_renamed_colors', 'louvain15_merged.92_renamed_colors', 'neighbors', 'pca', 'recover_dynamics', 'sname_colors', 'umap', 'velocity_graph', 'velocity_graph_neg', 'velocity_params'\n",
       "    obsm: 'X_pca', 'X_phate', 'X_umap', 'velocity_phate', 'velocity_umap'\n",
       "    varm: 'PCs', 'loss'\n",
       "    layers: 'Ms', 'Mu', 'ambiguous', 'fit_t', 'fit_tau', 'fit_tau_', 'spliced', 'unspliced', 'velocity', 'velocity_u'\n",
       "    obsp: 'connectivities', 'distances'"
      ]
     },
     "execution_count": 2,
     "metadata": {},
     "output_type": "execute_result"
    }
   ],
   "source": [
    "adata = scv.read(ifile)\n",
    "adata"
   ]
  },
  {
   "cell_type": "code",
   "execution_count": 3,
   "id": "fc9e3478-8fa0-4969-8dde-7a198b18b9a3",
   "metadata": {},
   "outputs": [
    {
     "name": "stdout",
     "output_type": "stream",
     "text": [
      "Automatically set threshold at doublet score = 0.31\n",
      "Detected doublet rate = 2.5%\n",
      "Estimated detectable doublet fraction = 53.5%\n",
      "Overall doublet rate:\n",
      "\tExpected   = 5.0%\n",
      "\tEstimated  = 4.7%\n"
     ]
    }
   ],
   "source": [
    "scanpy.external.pp.scrublet(adata)"
   ]
  },
  {
   "cell_type": "code",
   "execution_count": 4,
   "id": "1735b085-30b5-473b-8805-35915b693d41",
   "metadata": {},
   "outputs": [
    {
     "data": {
      "text/plain": [
       "AnnData object with n_obs × n_vars = 25067 × 21269\n",
       "    obs: 'TotalUMIs', 'sname', 'n_counts', 'louvain', 'velocity_self_transition', 'velocity_clusters15', 'louvain15_merged.92', 'louvain15_merged.92_renamed', 'louvain15_merged.95', 'louvain15_merged.95_renamed', 'louvain15_merged.98', 'louvain15_merged.98_renamed', 'louvain11', 'louvain11_merged.95', 'louvain11_merged.95_renamed', 'doublet_score', 'predicted_doublet'\n",
       "    var: 'Accession', 'AccessionVersion', 'Aliases', 'CcdsID', 'Chromosome', 'ChromosomeEnd', 'ChromosomeStart', 'CosmicID', 'DnaBindingDomain', 'FullName', 'GeneType', 'HgncID', 'IsTF', 'Location', 'LocationSortable', 'LocusGroup', 'LocusType', 'MgdID', 'MirBaseID', 'OmimID', 'PubmedID', 'RefseqID', 'RgdID', 'UcscID', 'UniprotID', 'VegaID', 'n_counts', 'highly_variable', 'means', 'dispersions', 'dispersions_norm', 'fit_r2', 'fit_alpha', 'fit_beta', 'fit_gamma', 'fit_t_', 'fit_scaling', 'fit_std_u', 'fit_std_s', 'fit_likelihood', 'fit_u0', 'fit_s0', 'fit_pval_steady', 'fit_steady_u', 'fit_steady_s', 'fit_variance', 'fit_alignment_scaling', 'velocity_genes'\n",
       "    uns: 'hvg', 'louvain', 'louvain11_merged.95_renamed_colors', 'louvain15_merged.92_renamed_colors', 'neighbors', 'pca', 'recover_dynamics', 'sname_colors', 'umap', 'velocity_graph', 'velocity_graph_neg', 'velocity_params', 'scrublet'\n",
       "    obsm: 'X_pca', 'X_phate', 'X_umap', 'velocity_phate', 'velocity_umap'\n",
       "    varm: 'PCs', 'loss'\n",
       "    layers: 'Ms', 'Mu', 'ambiguous', 'fit_t', 'fit_tau', 'fit_tau_', 'spliced', 'unspliced', 'velocity', 'velocity_u'\n",
       "    obsp: 'connectivities', 'distances'"
      ]
     },
     "execution_count": 4,
     "metadata": {},
     "output_type": "execute_result"
    }
   ],
   "source": [
    "adata"
   ]
  },
  {
   "cell_type": "code",
   "execution_count": 8,
   "id": "d62af59c-8f04-4c08-873b-8713ba08ab4d",
   "metadata": {},
   "outputs": [
    {
     "data": {
      "text/plain": [
       "louvain11_merged.95_renamed  predicted_doublet\n",
       "36                           False                4609\n",
       "5                            False                3575\n",
       "16                           False                2306\n",
       "7                            False                1923\n",
       "28                           False                1383\n",
       "                                                  ... \n",
       "0                            True                    1\n",
       "13                           True                    1\n",
       "11                           True                    1\n",
       "4                            True                    1\n",
       "41                           True                    1\n",
       "Length: 74, dtype: int64"
      ]
     },
     "execution_count": 8,
     "metadata": {},
     "output_type": "execute_result"
    }
   ],
   "source": [
    "counts = adata.obs[['louvain11_merged.95_renamed', 'predicted_doublet' ]].value_counts()\n",
    "counts"
   ]
  },
  {
   "cell_type": "code",
   "execution_count": 13,
   "id": "d5082c3d-1c99-4320-92f7-1f8a577ee29e",
   "metadata": {},
   "outputs": [
    {
     "data": {
      "text/plain": [
       "3575"
      ]
     },
     "execution_count": 13,
     "metadata": {},
     "output_type": "execute_result"
    }
   ],
   "source": [
    "counts[1]"
   ]
  },
  {
   "cell_type": "code",
   "execution_count": 14,
   "id": "69640768-f329-4f5e-852c-b0d787b373da",
   "metadata": {},
   "outputs": [
    {
     "data": {
      "text/plain": [
       "{('36', False): 4609,\n",
       " ('5', False): 3575,\n",
       " ('16', False): 2306,\n",
       " ('7', False): 1923,\n",
       " ('28', False): 1383,\n",
       " ('27', False): 1293,\n",
       " ('0', False): 961,\n",
       " ('21', False): 942,\n",
       " ('40', False): 879,\n",
       " ('17', False): 632,\n",
       " ('1', False): 601,\n",
       " ('31', False): 558,\n",
       " ('19', False): 483,\n",
       " ('18', False): 429,\n",
       " ('11', False): 255,\n",
       " ('39', False): 252,\n",
       " ('2', False): 250,\n",
       " ('32', False): 244,\n",
       " ('3', False): 223,\n",
       " ('22', False): 221,\n",
       " ('41', False): 212,\n",
       " ('33', False): 202,\n",
       " ('38', False): 186,\n",
       " ('13', False): 184,\n",
       " ('4', False): 179,\n",
       " ('8', False): 178,\n",
       " ('25', False): 170,\n",
       " ('12', False): 142,\n",
       " ('26', False): 121,\n",
       " ('15', False): 110,\n",
       " ('20', False): 110,\n",
       " ('30', False): 91,\n",
       " ('9', False): 75,\n",
       " ('14', False): 74,\n",
       " ('34', False): 66,\n",
       " ('29', False): 62,\n",
       " ('10', False): 60,\n",
       " ('24', False): 58,\n",
       " ('6', False): 50,\n",
       " ('23', False): 50,\n",
       " ('35', False): 26,\n",
       " ('37', False): 9}"
      ]
     },
     "execution_count": 14,
     "metadata": {},
     "output_type": "execute_result"
    }
   ],
   "source": [
    "OK = { key : value for key, value  in counts.items() if key[1] == False }\n",
    "OK"
   ]
  },
  {
   "cell_type": "code",
   "execution_count": 15,
   "id": "1254be5e-c8f8-4aeb-b30c-8200280c8a54",
   "metadata": {},
   "outputs": [
    {
     "data": {
      "text/plain": [
       "{('36', False): 4609,\n",
       " ('5', False): 3575,\n",
       " ('16', False): 2306,\n",
       " ('7', False): 1923,\n",
       " ('28', False): 1383,\n",
       " ('27', False): 1293,\n",
       " ('0', False): 961,\n",
       " ('21', False): 942,\n",
       " ('40', False): 879,\n",
       " ('17', False): 632,\n",
       " ('1', False): 601,\n",
       " ('31', False): 558,\n",
       " ('19', False): 483,\n",
       " ('18', False): 429,\n",
       " ('11', False): 255,\n",
       " ('39', False): 252,\n",
       " ('2', False): 250,\n",
       " ('32', False): 244,\n",
       " ('3', False): 223,\n",
       " ('22', False): 221,\n",
       " ('41', False): 212,\n",
       " ('33', False): 202,\n",
       " ('38', False): 186,\n",
       " ('13', False): 184,\n",
       " ('4', False): 179,\n",
       " ('8', False): 178,\n",
       " ('25', False): 170,\n",
       " ('12', False): 142,\n",
       " ('26', False): 121,\n",
       " ('15', False): 110,\n",
       " ('20', False): 110,\n",
       " ('30', False): 91,\n",
       " ('9', False): 75,\n",
       " ('14', False): 74,\n",
       " ('34', False): 66,\n",
       " ('29', False): 62,\n",
       " ('10', False): 60,\n",
       " ('24', False): 58,\n",
       " ('6', False): 50,\n",
       " ('23', False): 50,\n",
       " ('35', False): 26,\n",
       " ('37', False): 9}"
      ]
     },
     "execution_count": 15,
     "metadata": {},
     "output_type": "execute_result"
    }
   ],
   "source": [
    "dublets = { key : value for key, value  in counts.items() if key[1] == False }\n",
    "dublets"
   ]
  },
  {
   "cell_type": "code",
   "execution_count": 16,
   "id": "217ffcdb-bb72-47d8-9eac-19f0df813921",
   "metadata": {},
   "outputs": [
    {
     "data": {
      "text/plain": [
       "Counter({False: 24434, True: 633})"
      ]
     },
     "execution_count": 16,
     "metadata": {},
     "output_type": "execute_result"
    }
   ],
   "source": [
    "Counter( adata.obs['predicted_doublet'])"
   ]
  },
  {
   "cell_type": "code",
   "execution_count": 17,
   "id": "cdd26715-2411-47af-91da-f463f86cfbc3",
   "metadata": {},
   "outputs": [
    {
     "data": {
      "text/plain": [
       "View of AnnData object with n_obs × n_vars = 24434 × 21269\n",
       "    obs: 'TotalUMIs', 'sname', 'n_counts', 'louvain', 'velocity_self_transition', 'velocity_clusters15', 'louvain15_merged.92', 'louvain15_merged.92_renamed', 'louvain15_merged.95', 'louvain15_merged.95_renamed', 'louvain15_merged.98', 'louvain15_merged.98_renamed', 'louvain11', 'louvain11_merged.95', 'louvain11_merged.95_renamed', 'doublet_score', 'predicted_doublet'\n",
       "    var: 'Accession', 'AccessionVersion', 'Aliases', 'CcdsID', 'Chromosome', 'ChromosomeEnd', 'ChromosomeStart', 'CosmicID', 'DnaBindingDomain', 'FullName', 'GeneType', 'HgncID', 'IsTF', 'Location', 'LocationSortable', 'LocusGroup', 'LocusType', 'MgdID', 'MirBaseID', 'OmimID', 'PubmedID', 'RefseqID', 'RgdID', 'UcscID', 'UniprotID', 'VegaID', 'n_counts', 'highly_variable', 'means', 'dispersions', 'dispersions_norm', 'fit_r2', 'fit_alpha', 'fit_beta', 'fit_gamma', 'fit_t_', 'fit_scaling', 'fit_std_u', 'fit_std_s', 'fit_likelihood', 'fit_u0', 'fit_s0', 'fit_pval_steady', 'fit_steady_u', 'fit_steady_s', 'fit_variance', 'fit_alignment_scaling', 'velocity_genes'\n",
       "    uns: 'hvg', 'louvain', 'louvain11_merged.95_renamed_colors', 'louvain15_merged.92_renamed_colors', 'neighbors', 'pca', 'recover_dynamics', 'sname_colors', 'umap', 'velocity_graph', 'velocity_graph_neg', 'velocity_params', 'scrublet'\n",
       "    obsm: 'X_pca', 'X_phate', 'X_umap', 'velocity_phate', 'velocity_umap'\n",
       "    varm: 'PCs', 'loss'\n",
       "    layers: 'Ms', 'Mu', 'ambiguous', 'fit_t', 'fit_tau', 'fit_tau_', 'spliced', 'unspliced', 'velocity', 'velocity_u'\n",
       "    obsp: 'connectivities', 'distances'"
      ]
     },
     "execution_count": 17,
     "metadata": {},
     "output_type": "execute_result"
    }
   ],
   "source": [
    "adata[ adata.obs['predicted_doublet'] == False ]"
   ]
  },
  {
   "cell_type": "code",
   "execution_count": 18,
   "id": "e51b71fc-c587-43d1-b0b1-c872cf94211a",
   "metadata": {},
   "outputs": [],
   "source": [
    "adata = adata[ adata.obs['predicted_doublet'] == False ]"
   ]
  },
  {
   "cell_type": "code",
   "execution_count": 20,
   "id": "737d5b13-2ed1-419f-991c-30da8077d102",
   "metadata": {},
   "outputs": [
    {
     "name": "stdout",
     "output_type": "stream",
     "text": [
      "Hongze_healthy_2020_10_downsampled_1000_2D_overclustered_doubletsRemoved.h5ad\n"
     ]
    }
   ],
   "source": [
    "if os.path.exists(ofile):\n",
    "    os.remove(ofile)\n",
    "adata.write(ofile)\n",
    "print(ofile)"
   ]
  },
  {
   "cell_type": "code",
   "execution_count": 22,
   "id": "5f67a325-1bc8-424a-aae4-f5ceec788dd3",
   "metadata": {},
   "outputs": [],
   "source": [
    "del adata.uns['scrublet']"
   ]
  },
  {
   "cell_type": "code",
   "execution_count": 23,
   "id": "ddc1b666-409b-43dd-b0df-265814d85ac7",
   "metadata": {},
   "outputs": [
    {
     "name": "stdout",
     "output_type": "stream",
     "text": [
      "Hongze_healthy_2020_10_downsampled_1000_2D_overclustered_doubletsRemoved.h5ad\n"
     ]
    }
   ],
   "source": [
    "if os.path.exists(ofile):\n",
    "    os.remove(ofile)\n",
    "adata.write(ofile)\n",
    "print(ofile)"
   ]
  },
  {
   "cell_type": "code",
   "execution_count": null,
   "id": "bed1e0e2-12d5-467b-80fd-bafdf72bf8ea",
   "metadata": {},
   "outputs": [],
   "source": []
  }
 ],
 "metadata": {
  "kernelspec": {
   "display_name": "Python 3 (ipykernel)",
   "language": "python",
   "name": "python3"
  },
  "language_info": {
   "codemirror_mode": {
    "name": "ipython",
    "version": 3
   },
   "file_extension": ".py",
   "mimetype": "text/x-python",
   "name": "python",
   "nbconvert_exporter": "python",
   "pygments_lexer": "ipython3",
   "version": "3.8.2"
  }
 },
 "nbformat": 4,
 "nbformat_minor": 5
}
